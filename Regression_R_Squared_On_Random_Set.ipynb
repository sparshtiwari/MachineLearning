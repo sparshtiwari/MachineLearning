{
  "nbformat": 4,
  "nbformat_minor": 0,
  "metadata": {
    "colab": {
      "name": "Regression:R-Squared_On_Random_Set.ipynb",
      "provenance": [],
      "collapsed_sections": [],
      "authorship_tag": "ABX9TyPqAYSoLRFMYo7eb/IMq+0r"
    },
    "kernelspec": {
      "name": "python3",
      "display_name": "Python 3"
    }
  },
  "cells": [
    {
      "cell_type": "code",
      "metadata": {
        "id": "0REm_IKPmVLF",
        "colab_type": "code",
        "colab": {}
      },
      "source": [
        "from statistics import mean\n",
        "import numpy as np\n",
        "import matplotlib.pyplot as plt\n",
        "from matplotlib import style\n",
        "import random"
      ],
      "execution_count": 4,
      "outputs": []
    },
    {
      "cell_type": "code",
      "metadata": {
        "id": "VYMatZlLno8R",
        "colab_type": "code",
        "colab": {}
      },
      "source": [
        "style.use('ggplot')"
      ],
      "execution_count": null,
      "outputs": []
    },
    {
      "cell_type": "code",
      "metadata": {
        "id": "n1MPQyK-tAGE",
        "colab_type": "code",
        "colab": {}
      },
      "source": [
        "def create_Dataset(n,var,step=2,correlation=False):\n",
        "  val = 1\n",
        "  ys = []\n",
        "  for i in range(n):\n",
        "    y = val + random.randrange(-var,var)\n",
        "    ys.append(y)\n",
        "    if correlation and correlation == 'pos':\n",
        "      val += step\n",
        "    elif correlation and correlation == 'neg':\n",
        "      val -= step\n",
        "  \n",
        "  xs = [i for i in range(len(ys))]\n",
        "  \n",
        "  return np.array(xs, dtype=np.float64),np.array(ys,dtype=np.float64)"
      ],
      "execution_count": 1,
      "outputs": []
    },
    {
      "cell_type": "code",
      "metadata": {
        "id": "ILS2uOfXuJ4p",
        "colab_type": "code",
        "colab": {}
      },
      "source": [
        "xs, ys = create_Dataset(40,40,2,correlation='pos')"
      ],
      "execution_count": 5,
      "outputs": []
    },
    {
      "cell_type": "code",
      "metadata": {
        "id": "zjCT7d6mnurH",
        "colab_type": "code",
        "colab": {}
      },
      "source": [
        "#combining both slope and intercept from our last program in one.\n",
        "def best_fit_slope_and_intercept(xs,ys): \n",
        "    m = (((mean(xs)*mean(ys)) - mean(xs*ys)) /\n",
        "         ((mean(xs)*mean(xs)) - mean(xs*xs)))\n",
        "    b = mean(ys) - m*mean(xs)\n",
        "    return m, b"
      ],
      "execution_count": 6,
      "outputs": []
    },
    {
      "cell_type": "code",
      "metadata": {
        "id": "eMJr4N2OnxG0",
        "colab_type": "code",
        "colab": {}
      },
      "source": [
        "def squared_error(ys_orig,ys_line):\n",
        "    return sum((ys_line - ys_orig) * (ys_line - ys_orig))"
      ],
      "execution_count": 7,
      "outputs": []
    },
    {
      "cell_type": "code",
      "metadata": {
        "id": "0etwu9RcnzOr",
        "colab_type": "code",
        "colab": {}
      },
      "source": [
        "def coefficient_of_determination(ys_orig,ys_line):\n",
        "    y_mean_line = [mean(ys_orig) for y in ys_orig]\n",
        "    squared_error_regr = squared_error(ys_orig, ys_line)\n",
        "    squared_error_y_mean = squared_error(ys_orig, y_mean_line)\n",
        "    return 1 - (squared_error_regr/squared_error_y_mean)"
      ],
      "execution_count": 8,
      "outputs": []
    },
    {
      "cell_type": "code",
      "metadata": {
        "id": "KdzaxHn4n2UU",
        "colab_type": "code",
        "colab": {}
      },
      "source": [
        "m, b = best_fit_slope_and_intercept(xs,ys)\n",
        "regression_line = [(m*x)+b for x in xs]\n",
        "r_squared = coefficient_of_determination(ys,regression_line)"
      ],
      "execution_count": 9,
      "outputs": []
    },
    {
      "cell_type": "code",
      "metadata": {
        "id": "GKf4ro7DoH0H",
        "colab_type": "code",
        "colab": {
          "base_uri": "https://localhost:8080/",
          "height": 34
        },
        "outputId": "7f86f0e9-ee32-4894-891d-a764398df240"
      },
      "source": [
        "r_squared#See this time its much better than our last one and that too on a completely random data.With some tuning on thje data we can get even higher results."
      ],
      "execution_count": 10,
      "outputs": [
        {
          "output_type": "execute_result",
          "data": {
            "text/plain": [
              "0.5637204482810317"
            ]
          },
          "metadata": {
            "tags": []
          },
          "execution_count": 10
        }
      ]
    },
    {
      "cell_type": "code",
      "metadata": {
        "id": "_kbJeeGdoaKm",
        "colab_type": "code",
        "colab": {
          "base_uri": "https://localhost:8080/",
          "height": 265
        },
        "outputId": "267acb0d-3d8b-4a87-982f-204347e1b3fa"
      },
      "source": [
        "plt.scatter(xs,ys,color='b',label='data')\n",
        "plt.plot(xs, regression_line, color='r', label='regression line')\n",
        "plt.legend(loc=4)\n",
        "plt.show()"
      ],
      "execution_count": 13,
      "outputs": [
        {
          "output_type": "display_data",
          "data": {
            "image/png": "[encoded data removed]",
            "text/plain": [
              "<Figure size 432x288 with 1 Axes>"
            ]
          },
          "metadata": {
            "tags": [],
            "needs_background": "light"
          }
        }
      ]
    },
    {
      "cell_type": "code",
      "metadata": {
        "id": "HouxNC2ao5Gp",
        "colab_type": "code",
        "colab": {}
      },
      "source": [
        "xs, ys = create_Dataset(40,10,2,correlation='pos')"
      ],
      "execution_count": 15,
      "outputs": []
    },
    {
      "cell_type": "code",
      "metadata": {
        "id": "tQ3IB-qZvOTu",
        "colab_type": "code",
        "colab": {}
      },
      "source": [
        "m, b = best_fit_slope_and_intercept(xs,ys)\n",
        "regression_line = [(m*x)+b for x in xs]\n",
        "r_squared = coefficient_of_determination(ys,regression_line)"
      ],
      "execution_count": 16,
      "outputs": []
    },
    {
      "cell_type": "code",
      "metadata": {
        "id": "onZSB2q7vZWk",
        "colab_type": "code",
        "colab": {
          "base_uri": "https://localhost:8080/",
          "height": 34
        },
        "outputId": "b958fbbe-7e46-407c-fc00-68cb56e6fb95"
      },
      "source": [
        "r_squared"
      ],
      "execution_count": 17,
      "outputs": [
        {
          "output_type": "execute_result",
          "data": {
            "text/plain": [
              "0.9524716305948915"
            ]
          },
          "metadata": {
            "tags": []
          },
          "execution_count": 17
        }
      ]
    },
    {
      "cell_type": "code",
      "metadata": {
        "id": "h32jS0gSvcqD",
        "colab_type": "code",
        "colab": {}
      },
      "source": [
        "#As i said above with just some little fine tuning we have results as great as 95%."
      ],
      "execution_count": null,
      "outputs": []
    }
  ]
}