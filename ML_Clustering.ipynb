{
  "nbformat": 4,
  "nbformat_minor": 0,
  "metadata": {
    "colab": {
      "name": "ML_Clustering.ipynb",
      "provenance": [],
      "collapsed_sections": [],
      "authorship_tag": "ABX9TyMTosukW/afwDsj9/JEYKV/"
    },
    "kernelspec": {
      "name": "python3",
      "display_name": "Python 3"
    }
  },
  "cells": [
    {
      "cell_type": "code",
      "metadata": {
        "id": "eDQwizc5NX6w",
        "colab_type": "code",
        "colab": {}
      },
      "source": [
        "import matplotlib.pyplot as plt\n",
        "from matplotlib import style\n",
        "import numpy as np\n",
        "from sklearn.cluster import KMeans"
      ],
      "execution_count": 1,
      "outputs": []
    },
    {
      "cell_type": "code",
      "metadata": {
        "id": "iUaLm6dtVJex",
        "colab_type": "code",
        "colab": {
          "base_uri": "https://localhost:8080/",
          "height": 265
        },
        "outputId": "3f00cfb8-f1a4-4562-8ef5-0798a44c2655"
      },
      "source": [
        "style.use('ggplot')\n",
        "\n",
        "X = np.array([[1, 2.3],\n",
        "              [2, 1.8],\n",
        "              [6, 10],\n",
        "              [7, 8],\n",
        "              [1, 0.6],\n",
        "              [9, 11]])\n",
        "\n",
        "\n",
        "plt.scatter(X[:, 0],X[:, 1], s=150, linewidths = 5, zorder = 10)\n",
        "plt.show()"
      ],
      "execution_count": 4,
      "outputs": [
        {
          "output_type": "display_data",
          "data": {
            "image/png": "[encoded data removed]",
            "text/plain": [
              "<Figure size 432x288 with 1 Axes>"
            ]
          },
          "metadata": {
            "tags": []
          }
        }
      ]
    },
    {
      "cell_type": "code",
      "metadata": {
        "id": "X3_pFD8FVXM5",
        "colab_type": "code",
        "colab": {}
      },
      "source": [
        "#this is how our data looks like"
      ],
      "execution_count": 3,
      "outputs": []
    },
    {
      "cell_type": "code",
      "metadata": {
        "id": "MaRNg8aTVZ-z",
        "colab_type": "code",
        "colab": {
          "base_uri": "https://localhost:8080/",
          "height": 68
        },
        "outputId": "0e294c9b-ce0c-4ef4-faa4-cae3d45167a4"
      },
      "source": [
        "# calling our KMeans Classifier and feeding the value of k as 2\n",
        "clf = KMeans(n_clusters=2)\n",
        "clf.fit(X)"
      ],
      "execution_count": 5,
      "outputs": [
        {
          "output_type": "execute_result",
          "data": {
            "text/plain": [
              "KMeans(algorithm='auto', copy_x=True, init='k-means++', max_iter=300,\n",
              "       n_clusters=2, n_init=10, n_jobs=None, precompute_distances='auto',\n",
              "       random_state=None, tol=0.0001, verbose=0)"
            ]
          },
          "metadata": {
            "tags": []
          },
          "execution_count": 5
        }
      ]
    },
    {
      "cell_type": "code",
      "metadata": {
        "id": "Le-wY3RwVevT",
        "colab_type": "code",
        "colab": {}
      },
      "source": [
        "# Initializing our labels and centroids for KMeans Visualization\n",
        "centroids = clf.cluster_centers_\n",
        "labels = clf.labels_"
      ],
      "execution_count": 6,
      "outputs": []
    },
    {
      "cell_type": "code",
      "metadata": {
        "id": "0cIBELFVViVG",
        "colab_type": "code",
        "colab": {
          "base_uri": "https://localhost:8080/",
          "height": 265
        },
        "outputId": "1b689a65-43e5-4cb6-c23d-5d343875f362"
      },
      "source": [
        "# Visualizing the result and the centroids.\n",
        "colors = [\"g.\",\"r.\",\"c.\",\"y.\"]\n",
        "for i in range(len(X)):\n",
        "    plt.plot(X[i][0], X[i][1], colors[labels[i]], markersize = 10)\n",
        "plt.scatter(centroids[:, 0],centroids[:, 1], marker = \"x\", s=150, linewidths = 5, zorder = 10)\n",
        "plt.show()"
      ],
      "execution_count": 7,
      "outputs": [
        {
          "output_type": "display_data",
          "data": {
            "image/png": "[encoded data removed]",
            "text/plain": [
              "<Figure size 432x288 with 1 Axes>"
            ]
          },
          "metadata": {
            "tags": []
          }
        }
      ]
    },
    {
      "cell_type": "code",
      "metadata": {
        "id": "G67VQYDtVlB1",
        "colab_type": "code",
        "colab": {}
      },
      "source": [
        "# As we can see it was easy since we choosed our data so."
      ],
      "execution_count": null,
      "outputs": []
    }
  ]
}