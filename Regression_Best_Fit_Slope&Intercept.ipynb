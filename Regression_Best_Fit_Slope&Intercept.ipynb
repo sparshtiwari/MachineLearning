{
  "nbformat": 4,
  "nbformat_minor": 0,
  "metadata": {
    "colab": {
      "name": "Regression:Best_Fit_Slope&Intercept.ipynb",
      "provenance": [],
      "authorship_tag": "ABX9TyMCz0uUCTDjZO+OJxma3Roi"
    },
    "kernelspec": {
      "name": "python3",
      "display_name": "Python 3"
    }
  },
  "cells": [
    {
      "cell_type": "code",
      "metadata": {
        "id": "kYoSQ_QjQV_1",
        "colab_type": "code",
        "colab": {}
      },
      "source": [
        "from statistics import mean\n",
        "import numpy as np\n",
        "import matplotlib.pyplot as plt\n",
        "from matplotlib import style"
      ],
      "execution_count": 17,
      "outputs": []
    },
    {
      "cell_type": "code",
      "metadata": {
        "id": "5vEeq0-IdgPI",
        "colab_type": "code",
        "colab": {}
      },
      "source": [
        "xs = np.array([1,2,3,4,5], dtype=np.float64)\n",
        "ys = np.array([5,4,6,5,6], dtype=np.float64)"
      ],
      "execution_count": 3,
      "outputs": []
    },
    {
      "cell_type": "code",
      "metadata": {
        "id": "9TVedZAjdj-c",
        "colab_type": "code",
        "colab": {}
      },
      "source": [
        "def best_fit_slope(xs,ys):\n",
        "  m = ( ((mean(xs) * mean(ys)) - mean(xs*ys))  / ( (mean(xs)**2) - mean(xs**2) ) )\n",
        "  return m"
      ],
      "execution_count": 10,
      "outputs": []
    },
    {
      "cell_type": "code",
      "metadata": {
        "id": "W6aBOS4ce5EV",
        "colab_type": "code",
        "colab": {
          "base_uri": "https://localhost:8080/",
          "height": 34
        },
        "outputId": "3bda5ec5-c344-455c-b1cc-487b43471113"
      },
      "source": [
        "best_fit_slope(xs,ys)"
      ],
      "execution_count": 11,
      "outputs": [
        {
          "output_type": "execute_result",
          "data": {
            "text/plain": [
              "0.29999999999999893"
            ]
          },
          "metadata": {
            "tags": []
          },
          "execution_count": 11
        }
      ]
    },
    {
      "cell_type": "code",
      "metadata": {
        "id": "4kkvCEDTe-nr",
        "colab_type": "code",
        "colab": {}
      },
      "source": [
        "def best_fit_intercept(xs,ys):\n",
        "  m = best_fit_slope(xs,ys)\n",
        "\n",
        "  b = mean(ys) - m*mean(xs)\n",
        "\n",
        "  return b"
      ],
      "execution_count": 12,
      "outputs": []
    },
    {
      "cell_type": "code",
      "metadata": {
        "id": "7FcX0Y8MgVOM",
        "colab_type": "code",
        "colab": {
          "base_uri": "https://localhost:8080/",
          "height": 34
        },
        "outputId": "94b44b6b-dd3a-4c60-8fdb-ec6a6414a149"
      },
      "source": [
        "best_fit_intercept(xs,ys)"
      ],
      "execution_count": 13,
      "outputs": [
        {
          "output_type": "execute_result",
          "data": {
            "text/plain": [
              "4.300000000000003"
            ]
          },
          "metadata": {
            "tags": []
          },
          "execution_count": 13
        }
      ]
    },
    {
      "cell_type": "code",
      "metadata": {
        "id": "9Ust8eYjhst6",
        "colab_type": "code",
        "colab": {}
      },
      "source": [
        "m = best_fit_slope(xs,ys)\n",
        "b = best_fit_intercept(xs,ys) # Can be done at the first place but i didn't to show the values instantly."
      ],
      "execution_count": 15,
      "outputs": []
    },
    {
      "cell_type": "code",
      "metadata": {
        "id": "8oI2GFfDhY6H",
        "colab_type": "code",
        "colab": {}
      },
      "source": [
        "line = [(m*x) + b for x in xs]"
      ],
      "execution_count": 16,
      "outputs": []
    },
    {
      "cell_type": "code",
      "metadata": {
        "id": "PufGYZ3WhiQr",
        "colab_type": "code",
        "colab": {}
      },
      "source": [
        "# Lets visualise now.\n",
        "style.use('ggplot')"
      ],
      "execution_count": 18,
      "outputs": []
    },
    {
      "cell_type": "code",
      "metadata": {
        "id": "cVF9iQI5iob3",
        "colab_type": "code",
        "colab": {
          "base_uri": "https://localhost:8080/",
          "height": 265
        },
        "outputId": "126f6ea9-976e-498e-af94-c829466d3cb3"
      },
      "source": [
        "plt.scatter(xs,ys,color ='#003F71', label = 'data')\n",
        "plt.plot(xs,line,label = 'regression line')\n",
        "plt.legend(loc=4)\n",
        "plt.show()"
      ],
      "execution_count": 25,
      "outputs": [
        {
          "output_type": "display_data",
          "data": {
            "image/png": "[encoded data removed]",
            "text/plain": [
              "<Figure size 432x288 with 1 Axes>"
            ]
          },
          "metadata": {
            "tags": []
          }
        }
      ]
    },
    {
      "cell_type": "code",
      "metadata": {
        "id": "q07LSRoBiuxW",
        "colab_type": "code",
        "colab": {}
      },
      "source": [
        "predict_x = 9"
      ],
      "execution_count": 26,
      "outputs": []
    },
    {
      "cell_type": "code",
      "metadata": {
        "id": "zys6J2tUkjCq",
        "colab_type": "code",
        "colab": {}
      },
      "source": [
        "predict_y = (m*predict_x) + b"
      ],
      "execution_count": 27,
      "outputs": []
    },
    {
      "cell_type": "code",
      "metadata": {
        "id": "YLpYPuhsknge",
        "colab_type": "code",
        "colab": {
          "base_uri": "https://localhost:8080/",
          "height": 34
        },
        "outputId": "089f087b-a1f5-41c5-e38f-83df9fc47fd5"
      },
      "source": [
        "predict_y"
      ],
      "execution_count": 28,
      "outputs": [
        {
          "output_type": "execute_result",
          "data": {
            "text/plain": [
              "6.999999999999994"
            ]
          },
          "metadata": {
            "tags": []
          },
          "execution_count": 28
        }
      ]
    },
    {
      "cell_type": "code",
      "metadata": {
        "id": "0_NQUuZJko4z",
        "colab_type": "code",
        "colab": {
          "base_uri": "https://localhost:8080/",
          "height": 265
        },
        "outputId": "d8b622ec-2363-436b-b41a-7abe5dfd2ffe"
      },
      "source": [
        "plt.scatter(xs,ys,color ='b', label = 'data')\n",
        "plt.scatter(predict_x,predict_y,color ='g', label = 'prediction')\n",
        "plt.plot(xs,line,label = 'regression line')\n",
        "plt.legend(loc=4)\n",
        "plt.show()"
      ],
      "execution_count": 31,
      "outputs": [
        {
          "output_type": "display_data",
          "data": {
            "image/png": "[encoded data removed]",
            "text/plain": [
              "<Figure size 432x288 with 1 Axes>"
            ]
          },
          "metadata": {
            "tags": []
          }
        }
      ]
    },
    {
      "cell_type": "code",
      "metadata": {
        "id": "DTSKEG4gl2Gd",
        "colab_type": "code",
        "colab": {}
      },
      "source": [
        ""
      ],
      "execution_count": null,
      "outputs": []
    }
  ]
}