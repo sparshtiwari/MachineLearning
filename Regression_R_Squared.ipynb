{
  "nbformat": 4,
  "nbformat_minor": 0,
  "metadata": {
    "colab": {
      "name": "Regression:R-Squared.ipynb",
      "provenance": [],
      "collapsed_sections": [],
      "authorship_tag": "ABX9TyP3nfdIRyodFkgFBU8yF1r1"
    },
    "kernelspec": {
      "name": "python3",
      "display_name": "Python 3"
    }
  },
  "cells": [
    {
      "cell_type": "code",
      "metadata": {
        "id": "0REm_IKPmVLF",
        "colab_type": "code",
        "colab": {}
      },
      "source": [
        "from statistics import mean\n",
        "import numpy as np\n",
        "import matplotlib.pyplot as plt\n",
        "from matplotlib import style"
      ],
      "execution_count": 1,
      "outputs": []
    },
    {
      "cell_type": "code",
      "metadata": {
        "id": "VYMatZlLno8R",
        "colab_type": "code",
        "colab": {}
      },
      "source": [
        "style.use('ggplot')"
      ],
      "execution_count": 2,
      "outputs": []
    },
    {
      "cell_type": "code",
      "metadata": {
        "id": "Y671R7OPnsN_",
        "colab_type": "code",
        "colab": {}
      },
      "source": [
        "xs = np.array([1,2,3,4,5], dtype=np.float64) #initialising with random values of our own\n",
        "ys = np.array([5,4,6,5,6], dtype=np.float64)"
      ],
      "execution_count": 3,
      "outputs": []
    },
    {
      "cell_type": "code",
      "metadata": {
        "id": "zjCT7d6mnurH",
        "colab_type": "code",
        "colab": {}
      },
      "source": [
        "#combining both slope and intercept from our last program in one.\n",
        "def best_fit_slope_and_intercept(xs,ys): \n",
        "    m = (((mean(xs)*mean(ys)) - mean(xs*ys)) /\n",
        "         ((mean(xs)*mean(xs)) - mean(xs*xs)))\n",
        "    b = mean(ys) - m*mean(xs)\n",
        "    return m, b"
      ],
      "execution_count": 4,
      "outputs": []
    },
    {
      "cell_type": "code",
      "metadata": {
        "id": "eMJr4N2OnxG0",
        "colab_type": "code",
        "colab": {}
      },
      "source": [
        "def squared_error(ys_orig,ys_line):\n",
        "    return sum((ys_line - ys_orig) * (ys_line - ys_orig))"
      ],
      "execution_count": 5,
      "outputs": []
    },
    {
      "cell_type": "code",
      "metadata": {
        "id": "0etwu9RcnzOr",
        "colab_type": "code",
        "colab": {}
      },
      "source": [
        "def coefficient_of_determination(ys_orig,ys_line):\n",
        "    y_mean_line = [mean(ys_orig) for y in ys_orig]\n",
        "    squared_error_regr = squared_error(ys_orig, ys_line)\n",
        "    squared_error_y_mean = squared_error(ys_orig, y_mean_line)\n",
        "    return 1 - (squared_error_regr/squared_error_y_mean)"
      ],
      "execution_count": 7,
      "outputs": []
    },
    {
      "cell_type": "code",
      "metadata": {
        "id": "KdzaxHn4n2UU",
        "colab_type": "code",
        "colab": {}
      },
      "source": [
        "m, b = best_fit_slope_and_intercept(xs,ys)\n",
        "regression_line = [(m*x)+b for x in xs]\n",
        "r_squared = coefficient_of_determination(ys,regression_line)"
      ],
      "execution_count": 9,
      "outputs": []
    },
    {
      "cell_type": "code",
      "metadata": {
        "id": "GKf4ro7DoH0H",
        "colab_type": "code",
        "colab": {
          "base_uri": "https://localhost:8080/",
          "height": 34
        },
        "outputId": "80944089-b5f7-483e-83e6-391a82b98909"
      },
      "source": [
        "r_squared#while our r-squared coefficient is quite low it was expected since our data is quite low and has variance as high as 50% at some points so it was expected but if for example we were predicting a motion or direfction then our best fit line was pretty good tbh :P"
      ],
      "execution_count": 10,
      "outputs": [
        {
          "output_type": "execute_result",
          "data": {
            "text/plain": [
              "0.3214285714285714"
            ]
          },
          "metadata": {
            "tags": []
          },
          "execution_count": 10
        }
      ]
    },
    {
      "cell_type": "code",
      "metadata": {
        "id": "_kbJeeGdoaKm",
        "colab_type": "code",
        "colab": {
          "base_uri": "https://localhost:8080/",
          "height": 265
        },
        "outputId": "80901ca2-e33e-4f08-d3b8-6f15df7ab53a"
      },
      "source": [
        "plt.scatter(xs,ys,color='#003F72',label='data')\n",
        "plt.plot(xs, regression_line, label='regression line')\n",
        "plt.legend(loc=4)\n",
        "plt.show()"
      ],
      "execution_count": 11,
      "outputs": [
        {
          "output_type": "display_data",
          "data": {
            "image/png": "[encoded data removed]",
            "text/plain": [
              "<Figure size 432x288 with 1 Axes>"
            ]
          },
          "metadata": {
            "tags": []
          }
        }
      ]
    },
    {
      "cell_type": "code",
      "metadata": {
        "id": "HouxNC2ao5Gp",
        "colab_type": "code",
        "colab": {}
      },
      "source": [
        ""
      ],
      "execution_count": null,
      "outputs": []
    }
  ]
}